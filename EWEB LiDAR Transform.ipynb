{
 "cells": [
  {
   "cell_type": "code",
   "execution_count": null,
   "metadata": {
    "collapsed": true
   },
   "outputs": [],
   "source": [
    "import os\n",
    "import numpy as np\n",
    "import matplotlib\n",
    "import rasterio\n",
    "import matplotlib.pyplot as plt\n",
    "from mpl_toolkits.mplot3d import Axes3D\n",
    "from future import print\n",
    "from future import division\n",
    "%matplotlib inline"
   ]
  },
  {
   "cell_type": "code",
   "execution_count": null,
   "metadata": {
    "collapsed": true
   },
   "outputs": [],
   "source": [
    "HJA_path = 'G:/projects/EWEB_2015/Data/Work/carbon/HJA' # forward slashes to avoid \\ interpreted as escape character\n",
    "HJA_file = 'HJA_composite_5m.tif'\n",
    "EWEB_path = 'G:/projects/EWEB_2015/Data/Work/carbon/EWEB' # forward slashes to avoid \\ interpreted as escape character\n",
    "EWEB_file = 'PWP_Mosaic_Composite.tif'\n",
    "EWEB_ALC_path = 'G:/projects/EWEB_2015/Data/Work/carbon/EWEB' # forward slashes to avoid \\ interpreted as escape character\n",
    "EWEB_ALC_file = 'EWEB_carbon_storage.tif'"
   ]
  },
  {
   "cell_type": "code",
   "execution_count": null,
   "metadata": {
    "collapsed": true
   },
   "outputs": [],
   "source": [
    "# read in the HJA raster\n",
    "\n",
    "# The raster read command is currently configured to take in a composite raster where HT95 is the first band\n",
    "# and Index3 is the second band\n",
    "with rasterio.open(os.path.join(EWEB_path, EWEB_file)) as src:\n",
    "    HJA_HT = src.read(1, masked=True)\n",
    "    HJA_index = src.read(2, masked=True)"
   ]
  },
  {
   "cell_type": "code",
   "execution_count": null,
   "metadata": {
    "collapsed": true
   },
   "outputs": [],
   "source": [
    "# read in the EWEB raster\n",
    "\n",
    "# This raster should have non-forest areas masked out using whatever No Data value is assigned.\n",
    "# The raster read command is currently configured to take in a composite raster where HT95 is the first band\n",
    "# and Index3 is the second band\n",
    "with rasterio.open(os.path.join(HJA_path, HJA_file)) as src:\n",
    "    EWEB_HT = src.read(1, masked=True)\n",
    "    EWEB_index = src.read(2, masked=True)\n",
    "    profile = src.profile\n",
    "    mask = src.read_masks()"
   ]
  },
  {
   "cell_type": "code",
   "execution_count": null,
   "metadata": {
    "collapsed": true
   },
   "outputs": [],
   "source": [
    "# inspect the shape (dimensions) of the images\n",
    "print('HJA image shape: ', HJA_HT.shape)\n",
    "print('EWEB image shape: ', EWEB_HT.shape)"
   ]
  },
  {
   "cell_type": "code",
   "execution_count": null,
   "metadata": {
    "collapsed": true
   },
   "outputs": [],
   "source": [
    "# take a look at some descriptive statistics for these rasters\n",
    "for raster in ['HJA_index', 'EWEB_index', 'HJA_HT', 'EWEB_HT']:\n",
    "    name = raster\n",
    "    raster = eval(name)\n",
    "    stats = []\n",
    "    stats.append({\n",
    "        'min': raster.min(),\n",
    "        'mean': raster.mean(),\n",
    "        'median': np.median(raster),\n",
    "        'max': raster.max()})\n",
    "    print(name, stats, sep =':')"
   ]
  },
  {
   "cell_type": "code",
   "execution_count": null,
   "metadata": {
    "collapsed": true
   },
   "outputs": [],
   "source": [
    "# display raster images of the index3 values for EWEB and HJA\n",
    "f, ((ax1, ax2), (ax3, ax4)) = plt.subplots(2, 2)\n",
    "\n",
    "# visualize the first row rasters (HT95) as images\n",
    "HJAHT = ax1.imshow(HJA_HT, cmap='pink', vmin=0, vmax=350)\n",
    "ax2.imshow(EWEB_HT, cmap='pink', vmin=0, vmax=350)\n",
    "# add titles\n",
    "ax1.set_title('HJA_HT95')\n",
    "ax2.set_title('EWEB_HT95')\n",
    "# add a color bar\n",
    "cbar1 = f.colorbar(HJAHT, ax = ax1)\n",
    "\n",
    "# visualize the second row of rasters (Index3) as images\n",
    "HJAIDX = ax3.imshow(HJA_index, cmap = 'pink', vmin=0, vmax=200000)\n",
    "ax4.imshow(EWEB_index, cmap='pink', vmin=0, vmax=200000)\n",
    "# add titles\n",
    "ax3.set_title('HJA_index3')\n",
    "ax4.set_title('EWEB_index3')\n",
    "# add a colorbar\n",
    "cbar2 = f.colorbar(HJAIDX, ax = ax3)\n",
    "\n",
    "# remove axis marks and labels\n",
    "for ax in [ax1, ax2, ax3, ax4]:\n",
    "    ax.get_xaxis().set_visible(False)\n",
    "    ax.get_yaxis().set_visible(False)"
   ]
  },
  {
   "cell_type": "code",
   "execution_count": null,
   "metadata": {
    "collapsed": true
   },
   "outputs": [],
   "source": [
    "# flatten the arrays for regression\n",
    "HJA_HT_flat = HJA_HT.flatten()\n",
    "HJA_index_flat = HJA_index.flatten()\n",
    "EWEB_HT_flat = EWEB_HT.flatten()\n",
    "EWEB_index_flat = EWEB_index.flatten()"
   ]
  },
  {
   "cell_type": "code",
   "execution_count": null,
   "metadata": {
    "collapsed": true
   },
   "outputs": [],
   "source": [
    "# fit regressions to the flattened arrays\n",
    "# quadratic regressions\n",
    "HJA_quad_coefs = np.polyfit(HJA_x, HJA_y, 2)\n",
    "EWEB_quad_coefs = np.polyfit(EWEB_x, EWEB_y, 2)\n",
    "\n",
    "# create polynomials for function coefficients in case you want to call\n",
    "# the functions later (e.g., for graphing best-fit line using sampled x values)\n",
    "HJA_quad = np.poly1d(HJA_quad_coefs)\n",
    "EWEB_quad = np.poly1d(EWEB_quad_coefs)"
   ]
  },
  {
   "cell_type": "code",
   "execution_count": null,
   "metadata": {
    "collapsed": true
   },
   "outputs": [],
   "source": [
    "# transform EWEB index estimates to HJA index estimates\n",
    "\n",
    "# Quadratic transform\n",
    "def quad_transform(y):\n",
    "    coefs = EWEB_quad_coefs.copy()\n",
    "    # subtract y from last coefficient such that the equation is equal to zero, \n",
    "    # for solving using np.roots function\n",
    "    coefs[-1] -= y \n",
    "    \n",
    "    # solve for the implied value of x given the value of y\n",
    "    imp_x = np.roots(coefs)[0] \n",
    "    \n",
    "    # solve for the transformed value of y given the implied value of x\n",
    "    trans_y = np.polyval(HJA_quad_coefs, imp_x) \n",
    "    \n",
    "    return trans_y\n",
    "\n",
    "# vectorize the quadratic transformation function so it can be applied element-wise to an array\n",
    "vec_quad_transform = np.vectorize(quad_transform, otypes=[np.float])\n",
    "\n",
    "# calculate the new Index3 value for EWEB\n",
    "EWEB_new_index = vec_quad_transform(EWEB_y)"
   ]
  },
  {
   "cell_type": "code",
   "execution_count": null,
   "metadata": {
    "collapsed": true
   },
   "outputs": [],
   "source": [
    "# calculate aboveground live carbon using equation from Zald et al.\n",
    "HJA_ALC = (1.2496240 + 0.0219194*HJA_HT - 0.0000049*HJA_index)**3\n",
    "EWEB_ALC = (1.2496240 + 0.0219194*EWEB_HT - 0.0000049*EWEB_new_index)**3"
   ]
  },
  {
   "cell_type": "code",
   "execution_count": null,
   "metadata": {
    "collapsed": true
   },
   "outputs": [],
   "source": [
    "# do some graphing of the transformation for visual inspection\n",
    "plot_list = ['HJA', 'EWEB Raw', 'EWEB Transformed'] # a list of plot titles\n",
    "plots = list(plot_list) # a copy of plot_list for creating axes in matplotlib\n",
    "HJA, EWEB, Quad_trans = plots[0], plots[1], plots[2] # handles to refer to 'axes' objects in matplotlib\n",
    "\n",
    "f, (plots) = plt.subplots(1, len(plots), sharex=True, sharey=True) # a single row of plots, as many as in plot_list\n",
    "\n",
    "for plot in range(len(plots)):\n",
    "    # assign a name attribute for each plot, will be called to make title later\n",
    "    setattr(plots[plot], 'name', plot_list[plot]) \n",
    "    \n",
    "# sample from arrays for plotting to mitigate long load times in matplotlib\n",
    "sample = 500 # subsample every X points for graphing from each of the datasets\n",
    "HJA_x = HJA_HT_flat[0::sample]\n",
    "HJA_y = HJA_index_flat[0::sample]\n",
    "EWEB_x = EWEB_HT_flat[0::sample]\n",
    "EWEB_y = EWEB_index_flat[0::sample]\n",
    "EWEB_new_index_flat = EWEB_new_index.flatten() # for consistency with other index arrays being graphed\n",
    "EWEB_trans_y = EWEB_new_index_flat[0::sample]\n",
    "\n",
    "# arguments for scatter plots, will be unpacked when scatterplot method called\n",
    "HJA_args = [HJA_x, HJA_y]\n",
    "EWEB_args = [EWEB_x, EWEB_y]\n",
    "EWEB_trans_args = [EWEB_x, EWEB_trans_y]\n",
    "\n",
    "# to plot regression lines, use an array of x values spanning min-max of heights in EWEB and HJA datasets \n",
    "xp = np.linspace(min(np.amin(HJA_HT_flat),np.amin(EWEB_HT_flat)),max(np.amax(HJA_HT_flat),np.amax(EWEB_HT_flat)))\n",
    "\n",
    "# arguments for regression line plots\n",
    "HJA_regline = [xp, HJA_quad(xp)]\n",
    "EWEB_regline = [xp, EWEB_quad(xp)]\n",
    "\n",
    "# plot scatters\n",
    "HJA.scatter(*HJA_args, color='red', alpha=0.01, marker='.')\n",
    "EWEB.scatter(*EWEB_args, color='blue', alpha=0.01, marker ='.')\n",
    "Quad_trans.scatter(*EWEB_trans_args, color='chocolate', alpha=0.01, marker='.')\n",
    "\n",
    "# plot regression lines\n",
    "HJA.plot(*HJA_regline, color='red', linewidth=2)\n",
    "EWEB.plot(*EWEB_regline, color='blue', linewidth=2)\n",
    "\n",
    "for ax in plots: \n",
    "    # set axis limits for all plots\n",
    "    ax.set_ylim(bottom=0, top=150000)\n",
    "    ax.set_xlim(0, 250)\n",
    "    # label x-axis for all plots\n",
    "    ax.set_xlabel('HT95 (ft)')\n",
    "    # title each plot\n",
    "    ax.set_title(ax.name)\n",
    "plots[0].set_ylabel('Index3') # put a ylabel on the first plot\n",
    "\n",
    "plt.show()"
   ]
  },
  {
   "cell_type": "code",
   "execution_count": null,
   "metadata": {
    "collapsed": true
   },
   "outputs": [],
   "source": [
    "# use same mask and other raster settings as EWEB input raster\n",
    "profile.update(count=1) # but update to have only one band, whereas input raster had two\n",
    "\n",
    "# output/write the EWEB ALC raster (calculated using transformed Index3 value)\n",
    "with rasterio.open(os.path.join(EWEB_ALC_path, EWEB_ALC_file), 'w', **profile) as dst:\n",
    "    dst.write(EWEB_ALC, 1) # array to write to raster and number of bands are the arguments"
   ]
  }
 ],
 "metadata": {
  "anaconda-cloud": {},
  "kernelspec": {
   "display_name": "Python [Root]",
   "language": "python",
   "name": "Python [Root]"
  },
  "language_info": {
   "codemirror_mode": {
    "name": "ipython",
    "version": 2
   },
   "file_extension": ".py",
   "mimetype": "text/x-python",
   "name": "python",
   "nbconvert_exporter": "python",
   "pygments_lexer": "ipython2",
   "version": "2.7.12"
  }
 },
 "nbformat": 4,
 "nbformat_minor": 0
}
